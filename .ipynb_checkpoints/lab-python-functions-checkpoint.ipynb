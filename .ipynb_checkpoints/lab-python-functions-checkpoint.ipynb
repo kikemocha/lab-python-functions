{
 "cells": [
  {
   "cell_type": "markdown",
   "id": "25d7736c-ba17-4aff-b6bb-66eba20fbf4e",
   "metadata": {},
   "source": [
    "# Lab | Functions"
   ]
  },
  {
   "cell_type": "markdown",
   "id": "0c581062-8967-4d93-b06e-62833222f930",
   "metadata": {
    "tags": []
   },
   "source": [
    "## Exercise: Managing Customer Orders with Functions\n",
    "\n",
    "In the previous exercise, you improved the code for managing customer orders by using loops and flow control. Now, let's take it a step further and refactor the code by introducing functions.\n",
    "\n",
    "Follow the steps below to complete the exercise:\n",
    "\n",
    "1. Define a function named `initialize_inventory` that takes `products` as a parameter. Inside the function, implement the code for initializing the inventory dictionary using a loop and user input.\n",
    "\n",
    "2. Define a function named `get_customer_orders` that takes no parameters. Inside the function, implement the code for prompting the user to enter the product names using a loop. The function should return the `customer_orders` set.\n",
    "\n",
    "3. Define a function named `update_inventory` that takes `customer_orders` and `inventory` as parameters. Inside the function, implement the code for updating the inventory dictionary based on the customer orders.\n",
    "\n",
    "4. Define a function named `calculate_order_statistics` that takes `customer_orders` and `products` as parameters. Inside the function, implement the code for calculating the order statistics (total products ordered, and percentage of unique products ordered). The function should return these values.\n",
    "\n",
    "5. Define a function named `print_order_statistics` that takes `order_statistics` as a parameter. Inside the function, implement the code for printing the order statistics.\n",
    "\n",
    "6. Define a function named `print_updated_inventory` that takes `inventory` as a parameter. Inside the function, implement the code for printing the updated inventory.\n",
    "\n",
    "7. Call the functions in the appropriate sequence to execute the program and manage customer orders.\n",
    "\n",
    "Hints for functions:\n",
    "\n",
    "- Consider the input parameters required for each function and their return values.\n",
    "- Utilize function parameters and return values to transfer data between functions.\n",
    "- Test your functions individually to ensure they work correctly.\n",
    "\n",
    "\n"
   ]
  },
  {
   "cell_type": "code",
   "execution_count": 16,
   "id": "47e9cd0c-cd04-40f9-a097-dabf45dd2c34",
   "metadata": {},
   "outputs": [
    {
     "name": "stdin",
     "output_type": "stream",
     "text": [
      "¿Cuántos t-shirt hay disponible en el inventario? ->  10\n",
      "¿Cuántos mug hay disponible en el inventario? ->  5\n",
      "¿Cuántos hat hay disponible en el inventario? ->  2\n",
      "¿Cuántos book hay disponible en el inventario? ->  10\n",
      "¿Cuántos keychain hay disponible en el inventario? ->  1\n",
      "¿Qué producto quieres añadir? \"t-shirt\", \"mug\", \"hat\", \"book\" or \"keychain\" ->  book\n",
      "¿Quieres continuar? (yes/no) yes\n",
      "¿Qué producto quieres añadir? \"t-shirt\", \"mug\", \"hat\", \"book\" or \"keychain\" ->  mug\n",
      "¿Quieres continuar? (yes/no) yes\n",
      "¿Qué producto quieres añadir? \"t-shirt\", \"mug\", \"hat\", \"book\" or \"keychain\" ->  keychain\n",
      "¿Quieres continuar? (yes/no) no\n"
     ]
    },
    {
     "name": "stdout",
     "output_type": "stream",
     "text": [
      "{'keychain', 'mug', 'book'}\n",
      "Order Stadistics: \n",
      " - Total Products Ordered: 3\n",
      " - Percentage of Products Ordered: 10.7%\n",
      "Inventory: \n",
      "t-shirt  :  10\n",
      "mug  :  4\n",
      "hat  :  2\n",
      "book  :  9\n",
      "keychain  :  0\n"
     ]
    }
   ],
   "source": [
    "def initialize_inventory(products):\n",
    "    for product in products:\n",
    "        value = int(input(f\"¿Cuántos {product} hay disponible en el inventario? -> \"))\n",
    "        inventory[product] = value\n",
    "\n",
    "def get_customer_orders():\n",
    "    loop = True\n",
    "    while loop == True:\n",
    "        product = input('¿Qué producto quieres añadir? \"t-shirt\", \"mug\", \"hat\", \"book\" or \"keychain\" -> ')\n",
    "        customer_orders.add(product)\n",
    "        continue_var = input('¿Quieres continuar? (yes/no)')\n",
    "        if continue_var == 'no':\n",
    "            loop = False\n",
    "    return customer_orders\n",
    "\n",
    "def update_inventory(customer_orders, inventory):\n",
    "    for key in customer_orders:\n",
    "        inventory[key] -= 1\n",
    "\n",
    "def calculate_order_statistics(customer_orders, products):\n",
    "    total_products = sum(inventory.values())\n",
    "    order_status = [len(customer_orders), round((len(customer_orders) / total_products) * 100, 1)]\n",
    "    return order_status[0], order_status[1]\n",
    "\n",
    "def print_order_statistics(order_statistics):\n",
    "    print(f\"Order Stadistics: \\n - Total Products Ordered: {order_statistics[0]}\\n - Percentage of Products Ordered: {order_statistics[1]}%\")\n",
    "\n",
    "def print_updated_inventory(inventory):\n",
    "    print(\"Inventory: \")\n",
    "    for key, value in inventory.items():\n",
    "        print(key, \" : \", value)\n",
    "\n",
    "products = [\"t-shirt\", \"mug\", \"hat\", \"book\", \"keychain\"]\n",
    "inventory = dict()\n",
    "\n",
    "initialize_inventory(products)\n",
    "\n",
    "customer_orders = set()\n",
    "\n",
    "print(get_customer_orders())\n",
    "\n",
    "print_order_statistics(calculate_order_statistics(customer_orders, products))\n",
    "update_inventory(customer_orders, inventory)\n",
    "\n",
    "print_updated_inventory(inventory)\n"
   ]
  }
 ],
 "metadata": {
  "kernelspec": {
   "display_name": "Python 3 (ipykernel)",
   "language": "python",
   "name": "python3"
  },
  "language_info": {
   "codemirror_mode": {
    "name": "ipython",
    "version": 3
   },
   "file_extension": ".py",
   "mimetype": "text/x-python",
   "name": "python",
   "nbconvert_exporter": "python",
   "pygments_lexer": "ipython3",
   "version": "3.12.2"
  }
 },
 "nbformat": 4,
 "nbformat_minor": 5
}
